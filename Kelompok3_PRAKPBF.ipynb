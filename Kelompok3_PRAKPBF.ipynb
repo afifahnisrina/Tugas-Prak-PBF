{
  "nbformat": 4,
  "nbformat_minor": 0,
  "metadata": {
    "colab": {
      "provenance": []
    },
    "kernelspec": {
      "name": "python3",
      "display_name": "Python 3"
    },
    "language_info": {
      "name": "python"
    }
  },
  "cells": [
    {
      "cell_type": "markdown",
      "source": [
        "# Nomor 1"
      ],
      "metadata": {
        "id": "lRajg5OPS9t-"
      }
    },
    {
      "cell_type": "code",
      "execution_count": 2,
      "metadata": {
        "id": "Wy29JhuQSkeB",
        "colab": {
          "base_uri": "https://localhost:8080/"
        },
        "outputId": "aeff8ab5-ba5b-4909-87e1-d53ddce24938"
      },
      "outputs": [
        {
          "output_type": "execute_result",
          "data": {
            "text/plain": [
              "259"
            ]
          },
          "metadata": {},
          "execution_count": 2
        }
      ],
      "source": [
        "def f(x):\n",
        "  return 4**x\n",
        "def g(x):\n",
        "  return x**x\n",
        "def h(x):\n",
        "  return 3+x\n",
        "h(g(f(1)))"
      ]
    },
    {
      "cell_type": "code",
      "source": [
        "f=lambda x:4**x\n",
        "g=lambda x:x**x\n",
        "h=lambda x:3+x\n",
        "h(g(f(1)))"
      ],
      "metadata": {
        "id": "qOqSTS_IUNhJ",
        "colab": {
          "base_uri": "https://localhost:8080/"
        },
        "outputId": "5915214a-3edb-4e08-ec22-e1de745261fd"
      },
      "execution_count": 3,
      "outputs": [
        {
          "output_type": "execute_result",
          "data": {
            "text/plain": [
              "259"
            ]
          },
          "metadata": {},
          "execution_count": 3
        }
      ]
    },
    {
      "cell_type": "markdown",
      "source": [
        "# Nomor 2\n"
      ],
      "metadata": {
        "id": "YH8eQFbHwxTb"
      }
    },
    {
      "cell_type": "code",
      "source": [
        "#Buat Class Value dan inisiasi fungsi baru self\n",
        "class Value:\n",
        "    def __init__(self, value):\n",
        "        self.value = value\n",
        "#buat instance yaitu fungsi f, g, dan h pada x dan dikembalikan nilainya ke class value\n",
        "def f(x):\n",
        "    return Value(4**x)\n",
        "def g(x):\n",
        "    return Value(x ** x)\n",
        "def h(x):\n",
        "    return Value(3 + x)\n",
        "#print hasilnya\n",
        "print (h(g(f(1).value).value).value)"
      ],
      "metadata": {
        "colab": {
          "base_uri": "https://localhost:8080/"
        },
        "id": "E0aTxc5UtH-j",
        "outputId": "c158f895-87e7-409e-e533-0657ce436a85"
      },
      "execution_count": null,
      "outputs": [
        {
          "output_type": "execute_result",
          "data": {
            "text/plain": [
              "259"
            ]
          },
          "metadata": {},
          "execution_count": 8
        }
      ]
    }
  ]
}